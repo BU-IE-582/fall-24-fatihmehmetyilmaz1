{
 "cells": [
  {
   "cell_type": "markdown",
   "metadata": {},
   "source": [
    "# IE 582 Statistical Learning for Data Mining\n",
    "##### Homework 2\n",
    "##### Fatih Mehmet Yılmaz - 2024702054"
   ]
  },
  {
   "cell_type": "markdown",
   "metadata": {},
   "source": [
    "### 1. Introduction"
   ]
  },
  {
   "cell_type": "code",
   "execution_count": 6,
   "metadata": {},
   "outputs": [],
   "source": [
    "# Import necessary libraries\n",
    "\n",
    "import numpy as np\n",
    "import pandas as pd\n",
    "import matplotlib.pyplot as plt\n",
    "import seaborn as sns\n",
    "import warnings\n",
    "warnings.filterwarnings(\"ignore\")\n",
    "\n",
    "# Load the match data\n",
    "match_data = pd.read_csv(\"match_data.csv\")"
   ]
  },
  {
   "cell_type": "markdown",
   "metadata": {},
   "source": [
    "#### Calculate Raw Probabilities\n",
    "\n",
    "To compute the raw probabilities for match outcomes, we use the formula:\n",
    "\n",
    "$$\n",
    "P(x) = \\frac{1}{\\text{odd}}\n",
    "$$\n",
    "\n",
    "where:\n",
    "- $P(x)$ is the probability of the outcome \\(x\\).\n",
    "- $\\text{odd}$ represents the bookmaker's odds for the corresponding outcome.\n",
    "\n",
    "##### Calculations:\n",
    "1. **Home Win**:\n",
    "   $$\n",
    "   P(\\text{home win}) = \\frac{1}{\\text{odd_home}}\n",
    "   $$\n",
    "   \n",
    "2. **Draw**:\n",
    "   $$\n",
    "   P(\\text{draw}) = \\frac{1}{\\text{odd_draw}}\n",
    "   $$\n",
    "\n",
    "3. **Away Win**:\n",
    "   $$\n",
    "   P(\\text{away win}) = \\frac{1}{\\text{odd_away}}\n",
    "   $$\n",
    "\n",
    "These probabilities provide the implied likelihood of each outcome based on the bookmaker's odds.\n"
   ]
  },
  {
   "cell_type": "markdown",
   "metadata": {},
   "source": [
    "### 2. Part-1 Implementation"
   ]
  },
  {
   "cell_type": "code",
   "execution_count": 7,
   "metadata": {},
   "outputs": [],
   "source": [
    "# Filter out rows where 'suspended' or 'stopped' is True since these rows contain invalid odds.\n",
    "\n",
    "filtered_data = match_data[(match_data['suspended'] != True) & (match_data['stopped'] != True)]\n",
    "\n",
    "# Calculate P(home win), P(draw), P(away win)\n",
    "filtered_data['P_home'] = 1 / filtered_data['1']\n",
    "filtered_data['P_draw'] = 1 / filtered_data['X']\n",
    "filtered_data['P_away'] = 1 / filtered_data['2']"
   ]
  },
  {
   "cell_type": "markdown",
   "metadata": {},
   "source": [
    "#### Normalize Probabilities\n",
    "\n",
    "After calculating the raw probabilities for match outcomes, we normalize them so that their sum equals 1. This is done using the following formula:\n",
    "\n",
    "$$\n",
    "P_{\\text{normalized}}(x) = \\frac{P(x)}{\\sum P(x)}\n",
    "$$\n",
    "\n",
    "where:\n",
    "- $P(x)$ is the raw probability of the outcome \\(x\\).\n",
    "- $\\sum P(x)\\$ is the sum of raw probabilities for all outcomes (Home Win, Draw, and Away Win).\n",
    "\n",
    "##### Calculations:\n",
    "1. Compute the sum of raw probabilities:\n",
    "   $$\n",
    "   \\text{Sum} = P(\\text{home win}) + P(\\text{draw}) + P(\\text{away win})\n",
    "   $$\n",
    "\n",
    "2. Normalize each probability:\n",
    "   - For Home Win:\n",
    "     $$\n",
    "     P_{\\text{normalized}}(\\text{home win}) = \\frac{P(\\text{home win})}{\\text{Sum}}\n",
    "     $$\n",
    "   - For Draw:\n",
    "     $$\n",
    "     P_{\\text{normalized}}(\\text{draw}) = \\frac{P(\\text{draw})}{\\text{Sum}}\n",
    "     $$\n",
    "   - For Away Win:\n",
    "     $$\n",
    "     P_{\\text{normalized}}(\\text{away win}) = \\frac{P(\\text{away win})}{\\text{Sum}}\n",
    "     $$\n",
    "\n",
    "##### Purpose:\n",
    "Normalization ensures that the probabilities are comparable and add up to 1, reflecting a proper probability distribution.\n"
   ]
  },
  {
   "cell_type": "code",
   "execution_count": 8,
   "metadata": {},
   "outputs": [],
   "source": [
    "# Normalize probabilities\n",
    "prob_sum = filtered_data[['P_home', 'P_draw', 'P_away']].sum(axis=1)\n",
    "filtered_data['P_home_norm'] = filtered_data['P_home'] / prob_sum\n",
    "filtered_data['P_draw_norm'] = filtered_data['P_draw'] / prob_sum\n",
    "filtered_data['P_away_norm'] = filtered_data['P_away'] / prob_sum"
   ]
  },
  {
   "cell_type": "markdown",
   "metadata": {},
   "source": [
    "#### Calculate Difference Between Probabilities\n",
    "\n",
    "To analyze the difference in probabilities, we calculate the difference between the probabilities of a home win and an away win for both raw and normalized probabilities.\n",
    "\n",
    "##### Raw Probability Difference:\n",
    "The difference in raw probabilities is computed as:\n",
    "$$\n",
    "\\Delta = P(\\text{home win}) - P(\\text{away win})\n",
    "$$\n",
    "\n",
    "##### Normalized Probability Difference:\n",
    "The difference in normalized probabilities is computed as:\n",
    "$$\n",
    "\\Delta_{\\text{norm}} = P_{\\text{normalized}}(\\text{home win}) - P_{\\text{normalized}}(\\text{away win})\n",
    "$$\n",
    "\n",
    "##### Purpose:\n",
    "1. The raw probability difference $(\\Delta)$ provides insight into the bookmakers' unadjusted predictions for home and away wins.\n",
    "2. The normalized probability difference $(\\Delta_{\\text{norm}})$ ensures the values are properly scaled and comparable, accounting for normalization effects.\n",
    "\n",
    "##### Next Step:\n",
    "The calculated differences $(\\Delta)$ and $(\\Delta_{\\text{norm}})$ will be discretized into bins to perform further analysis.\n"
   ]
  },
  {
   "cell_type": "code",
   "execution_count": 9,
   "metadata": {},
   "outputs": [],
   "source": [
    "# Calculate P(home win) - P(away win)\n",
    "filtered_data['home_minus_away'] = filtered_data['P_home'] - filtered_data['P_away']\n",
    "filtered_data['home_minus_away_norm'] = filtered_data['P_home_norm'] - filtered_data['P_away_norm']"
   ]
  },
  {
   "cell_type": "markdown",
   "metadata": {},
   "source": [
    "#### Discretize into Bins\n",
    "\n",
    "To analyze how the differences between probabilities correspond to match outcomes, we discretize the probability differences into bins.\n",
    "\n",
    "##### Discretization:\n",
    "1. **Bins for Raw Differences ($(\\Delta)$)**:\n",
    "   - The raw probability differences ($(\\Delta)$) are grouped into equal intervals (bins). For example:\n",
    "     $$\n",
    "     (-1, -0.8], (-0.8, -0.6], \\ldots, (0.8, 1]\n",
    "     $$\n",
    "   - These bins represent ranges of probability differences between home win and away win.\n",
    "\n",
    "2. **Bins for Normalized Differences ($(\\Delta_{\\text{norm}})$)**:\n",
    "   - Similarly, the normalized probability differences ($(\\Delta_{\\text{norm}})$) are grouped into the same bins for consistency.\n",
    "\n",
    "##### Assignment:\n",
    "Each match is assigned to a bin based on:\n",
    "- The raw probability difference ($(\\Delta)$).\n",
    "- The normalized probability difference ($(\\Delta_{\\text{norm}})$)).\n",
    "\n",
    "##### Purpose:\n",
    "Discretization helps in aggregating matches into groups where differences in probabilities are similar. This enables further analysis, such as calculating empirical probabilities of draws for each bin.\n"
   ]
  },
  {
   "cell_type": "code",
   "execution_count": 10,
   "metadata": {},
   "outputs": [],
   "source": [
    "# Bin values\n",
    "bins = np.linspace(-1, 1, 21)  # Example bins: 20 equal intervals from -1 to 1\n",
    "filtered_data['bin'] = pd.cut(filtered_data['home_minus_away'], bins)\n",
    "filtered_data['bin_norm'] = pd.cut(filtered_data['home_minus_away_norm'], bins)"
   ]
  },
  {
   "cell_type": "markdown",
   "metadata": {},
   "source": [
    "### Step 6: Calculate Empirical Probabilities of Draws\n",
    "\n",
    "After assigning matches to bins based on probability differences, we calculate the empirical probability of draws for each bin.\n",
    "\n",
    "#### Steps:\n",
    "1. **Count Matches in Each Bin**:\n",
    "   - For each bin:\n",
    "     - Count the total number of matches assigned to that bin.\n",
    "     - Count the number of matches that ended as a draw $(\\text{result} = X)$.\n",
    "\n",
    "2. **Calculate Empirical Probability**:\n",
    "   - The empirical probability of draws for each bin is computed as:\n",
    "     $$\n",
    "     P_{\\text{empirical}}(\\text{draw}) = \\frac{\\text{Matches Ending in Draw}}{\\text{Total Matches in Bin}}\n",
    "     $$\n",
    "\n",
    "#### Purpose:\n",
    "This step helps determine how often matches end in a draw for each range of probability differences. It provides a real-world comparison against the bookmakers' implied probabilities.\n"
   ]
  },
  {
   "cell_type": "code",
   "execution_count": 11,
   "metadata": {},
   "outputs": [],
   "source": [
    "# Calculate empirical probabilities\n",
    "empirical_probs = filtered_data.groupby('bin')['result'].apply(lambda x: (x == 'X').mean())\n",
    "empirical_probs_norm = filtered_data.groupby('bin_norm')['result'].apply(lambda x: (x == 'X').mean())"
   ]
  },
  {
   "cell_type": "markdown",
   "metadata": {},
   "source": [
    "#### Visualization\n",
    "\n",
    "To better understand the relationship between probability differences and match outcomes, we create visualizations.\n",
    "\n",
    "1. **Plot Variables**:\n",
    "   - $x$-axis: Probability Difference $(\\Delta)$ or Normalized Probability Difference $(\\Delta_{\\text{norm}})$.\n",
    "   - $y$-axis: Empirical Probability of Draws $(P_{\\text{empirical}}(\\text{draw}))$.\n",
    "\n",
    "2. **Plot Details**:\n",
    "   - Create two scatter plots:\n",
    "     1. One for raw probabilities ($(\\Delta)$).\n",
    "     2. One for normalized probabilities ($(\\Delta_{\\text{norm}})$).\n",
    "\n",
    "3. **Labels and Titles**:\n",
    "   - Label the axes:\n",
    "     - $x$-axis: $(P(\\text{home win}) - P(\\text{away win}))$\n",
    "     - $y$-axis: Empirical $(P(\\text{draw})$\n",
    "\n",
    "##### Purpose:\n",
    "Visualizing the empirical probabilities against probability differences allows us to identify trends and biases in bookmakers' odds for draws.\n"
   ]
  },
  {
   "cell_type": "code",
   "execution_count": 12,
   "metadata": {},
   "outputs": [
    {
     "data": {
      "image/png": "[encoded data removed]",
      "text/plain": [
       "<Figure size 720x432 with 1 Axes>"
      ]
     },
     "metadata": {
      "needs_background": "light"
     },
     "output_type": "display_data"
    }
   ],
   "source": [
    "# Visualization\n",
    "plt.figure(figsize=(10, 6))\n",
    "plt.scatter(bins[:-1] + 0.05, empirical_probs, label='Raw Probabilities', alpha=0.7)\n",
    "plt.scatter(bins[:-1] + 0.05, empirical_probs_norm, label='Normalized Probabilities', alpha=0.7)\n",
    "plt.axhline(0, color='grey', linestyle='--', linewidth=0.7)\n",
    "plt.axvline(0, color='grey', linestyle='--', linewidth=0.7)\n",
    "plt.xlabel('P(home win) - P(away win)')\n",
    "plt.ylabel('Empirical P(draw)')\n",
    "plt.title('Empirical vs. Normalized Probabilities')\n",
    "plt.legend()\n",
    "plt.show()"
   ]
  },
  {
   "cell_type": "code",
   "execution_count": 14,
   "metadata": {},
   "outputs": [
    {
     "data": {
      "image/png": "[encoded data removed]",
      "text/plain": [
       "<Figure size 720x432 with 1 Axes>"
      ]
     },
     "metadata": {
      "needs_background": "light"
     },
     "output_type": "display_data"
    }
   ],
   "source": [
    "filtered_data['P_tie'] = 1 / filtered_data['X']  # Ensure P_tie is calculated if not present\n",
    "\n",
    "# Calculate empirical probabilities of draws within each bin\n",
    "draw_counts = filtered_data[filtered_data['result'] == 'X'].groupby('bin').size()\n",
    "total_counts = filtered_data.groupby('bin').size()\n",
    "empirical_draw_probabilities = (draw_counts / total_counts).fillna(0)\n",
    "\n",
    "# Calculate average bookmaker probabilities of a draw within each bin\n",
    "average_bookmaker_tie_probabilities = filtered_data.groupby('bin')['P_tie'].mean()\n",
    "\n",
    "# Midpoints of bins for plotting\n",
    "bin_midpoints = [(interval.left + interval.right) / 2 for interval in filtered_data['bin'].cat.categories]\n",
    "\n",
    "# Plotting empirical vs bookmaker probabilities\n",
    "plt.figure(figsize=(10, 6))\n",
    "\n",
    "# Scatter plot for empirical probabilities\n",
    "plt.scatter(bin_midpoints, empirical_draw_probabilities, label='Empirical P(draw)', color='blue', marker='x', alpha=0.7)\n",
    "\n",
    "# Line plot for bookmaker probabilities\n",
    "plt.plot(bin_midpoints, average_bookmaker_tie_probabilities, label='Bookmaker P(tie)', color='orange')\n",
    "\n",
    "# Add horizontal and vertical lines at 0 for reference\n",
    "plt.axhline(0, color='grey', linestyle='--', linewidth=0.7)\n",
    "plt.axvline(0, color='grey', linestyle='--', linewidth=0.7)\n",
    "\n",
    "# Axis labels and title\n",
    "plt.xlabel('P(home win) - P(away win)', fontsize=12)\n",
    "plt.ylabel('Probability of Draw', fontsize=12)\n",
    "plt.title('1st Half: Empirical vs Bookmaker Probabilities for Draws', fontsize=14)\n",
    "\n",
    "# Legend and display\n",
    "plt.legend()\n",
    "plt.grid(True, alpha=0.3)\n",
    "plt.show()\n",
    "\n"
   ]
  },
  {
   "cell_type": "code",
   "execution_count": null,
   "metadata": {},
   "outputs": [],
   "source": []
  }
 ],
 "metadata": {
  "kernelspec": {
   "display_name": "Python 3",
   "language": "python",
   "name": "python3"
  },
  "language_info": {
   "codemirror_mode": {
    "name": "ipython",
    "version": 3
   },
   "file_extension": ".py",
   "mimetype": "text/x-python",
   "name": "python",
   "nbconvert_exporter": "python",
   "pygments_lexer": "ipython3",
   "version": "3.8.8"
  }
 },
 "nbformat": 4,
 "nbformat_minor": 4
}
